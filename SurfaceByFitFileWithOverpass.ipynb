{
 "cells": [
  {
   "cell_type": "code",
   "execution_count": 1,
   "id": "e8bc3c3e",
   "metadata": {},
   "outputs": [],
   "source": [
    "import overpy\n",
    "import numpy as np\n",
    "import fitparse\n",
    "from rdp import rdp\n",
    "import pandas as pd\n",
    "import math\n",
    "from geopy import distance\n",
    "from tqdm import tqdm"
   ]
  },
  {
   "cell_type": "markdown",
   "id": "a98ad80f",
   "metadata": {},
   "source": [
    "# Import Fitfile and read all waypoints into array\n",
    "+ and convert position into degrees"
   ]
  },
  {
   "cell_type": "code",
   "execution_count": 2,
   "id": "e1b04384",
   "metadata": {},
   "outputs": [],
   "source": [
    "file = \"Fahrt_am_Nachmittag.fit\"\n",
    "fitfile = fitparse.FitFile(file)\n",
    "lat_long = []\n",
    "for record in fitfile.get_messages(\"record\"):\n",
    "    lat_long.append([float(record.get_value('position_lat')) * 180 / math.pow(2, 31), float(record.get_value('position_long')) * 180 / math.pow(2, 31)])"
   ]
  },
  {
   "cell_type": "markdown",
   "id": "965e1ed1",
   "metadata": {},
   "source": [
    "# Optimze Map by using rdp to reduce requests:"
   ]
  },
  {
   "cell_type": "code",
   "execution_count": 3,
   "id": "bd88f242",
   "metadata": {},
   "outputs": [],
   "source": [
    "def optimize(lat_long, EPSILON=0.0001):\n",
    "    arr = np.array(list(map(lambda lat, lon: [lat, lon], lat_long[0], lat_long[1])))\n",
    "    mask = rdp(arr, algo=\"iter\", return_mask=True, epsilon=EPSILON)\n",
    "    parr = np.array(lat_long)\n",
    "    r = list(parr[mask])\n",
    "    return r"
   ]
  },
  {
   "cell_type": "code",
   "execution_count": 4,
   "id": "25531e27",
   "metadata": {},
   "outputs": [
    {
     "name": "stdout",
     "output_type": "stream",
     "text": [
      "Rawfile: 5223 Points\n",
      "Optimized: 99 Points\n"
     ]
    }
   ],
   "source": [
    "# slicing array due private area reasons\n",
    "df = pd.DataFrame(lat_long[500:-500])\n",
    "print(f'Rawfile: {len(df)} Points')\n",
    "# optimize array\n",
    "_optimized = optimize(df)\n",
    "print(f'Optimized: {len(_optimized)} Points')\n"
   ]
  },
  {
   "cell_type": "markdown",
   "id": "74250439",
   "metadata": {},
   "source": [
    "# Variant 1:"
   ]
  },
  {
   "cell_type": "markdown",
   "id": "9733b785",
   "metadata": {},
   "source": [
    "Build Query with all Waypoints and add distance to array for DataFrame usage"
   ]
  },
  {
   "cell_type": "code",
   "execution_count": 5,
   "id": "be72ec60",
   "metadata": {
    "scrolled": true
   },
   "outputs": [],
   "source": [
    "around = 6\n",
    "tmp = []\n",
    "s = \"\"\n",
    "for a in range(0, len(_optimized )-1):\n",
    "    tmp.append( [_optimized [a][0],  _optimized [a][1], distance.distance((_optimized [a][0], _optimized [a][1]), (_optimized [a+1][0], _optimized [a+1][1])).km])\n",
    "    lat_mean = ( _optimized [a][0] + _optimized [a+1][0] ) / 2\n",
    "    lon_mean = ( _optimized [a][1] + _optimized [a+1][1] ) / 2\n",
    "    s += f\"way['surface'](around:{around},{lat_mean}, {lon_mean});\"\n",
    "q = f\"[out:json];({s});(._;>;);out;\"\n",
    "#print(q)"
   ]
  },
  {
   "cell_type": "code",
   "execution_count": 6,
   "id": "47b7e455",
   "metadata": {},
   "outputs": [],
   "source": [
    "#print(q)"
   ]
  },
  {
   "cell_type": "code",
   "execution_count": 7,
   "id": "4564ea8b",
   "metadata": {},
   "outputs": [
    {
     "data": {
      "text/plain": [
       "(98, 3)"
      ]
     },
     "execution_count": 7,
     "metadata": {},
     "output_type": "execute_result"
    }
   ],
   "source": [
    "_df = pd.DataFrame(tmp, columns=['lat','lon','distance'])\n",
    "_df.shape"
   ]
  },
  {
   "cell_type": "code",
   "execution_count": 8,
   "id": "adc0e914",
   "metadata": {},
   "outputs": [
    {
     "data": {
      "text/html": [
       "<div>\n",
       "<style scoped>\n",
       "    .dataframe tbody tr th:only-of-type {\n",
       "        vertical-align: middle;\n",
       "    }\n",
       "\n",
       "    .dataframe tbody tr th {\n",
       "        vertical-align: top;\n",
       "    }\n",
       "\n",
       "    .dataframe thead th {\n",
       "        text-align: right;\n",
       "    }\n",
       "</style>\n",
       "<table border=\"1\" class=\"dataframe\">\n",
       "  <thead>\n",
       "    <tr style=\"text-align: right;\">\n",
       "      <th></th>\n",
       "      <th>lat</th>\n",
       "      <th>lon</th>\n",
       "      <th>distance</th>\n",
       "    </tr>\n",
       "  </thead>\n",
       "  <tbody>\n",
       "    <tr>\n",
       "      <th>0</th>\n",
       "      <td>51.976537</td>\n",
       "      <td>7.601682</td>\n",
       "      <td>1.088618</td>\n",
       "    </tr>\n",
       "    <tr>\n",
       "      <th>1</th>\n",
       "      <td>51.983330</td>\n",
       "      <td>7.590279</td>\n",
       "      <td>0.138327</td>\n",
       "    </tr>\n",
       "    <tr>\n",
       "      <th>2</th>\n",
       "      <td>51.984269</td>\n",
       "      <td>7.588961</td>\n",
       "      <td>0.054852</td>\n",
       "    </tr>\n",
       "    <tr>\n",
       "      <th>3</th>\n",
       "      <td>51.984523</td>\n",
       "      <td>7.588277</td>\n",
       "      <td>1.042844</td>\n",
       "    </tr>\n",
       "    <tr>\n",
       "      <th>4</th>\n",
       "      <td>51.990946</td>\n",
       "      <td>7.577222</td>\n",
       "      <td>0.247170</td>\n",
       "    </tr>\n",
       "  </tbody>\n",
       "</table>\n",
       "</div>"
      ],
      "text/plain": [
       "         lat       lon  distance\n",
       "0  51.976537  7.601682  1.088618\n",
       "1  51.983330  7.590279  0.138327\n",
       "2  51.984269  7.588961  0.054852\n",
       "3  51.984523  7.588277  1.042844\n",
       "4  51.990946  7.577222  0.247170"
      ]
     },
     "execution_count": 8,
     "metadata": {},
     "output_type": "execute_result"
    }
   ],
   "source": [
    "_df.head()"
   ]
  },
  {
   "cell_type": "markdown",
   "id": "01e362d0",
   "metadata": {},
   "source": [
    "# Query overpass by using generated long query"
   ]
  },
  {
   "cell_type": "code",
   "execution_count": 9,
   "id": "d82c5572",
   "metadata": {},
   "outputs": [
    {
     "name": "stdout",
     "output_type": "stream",
     "text": [
      "https://overpass.openstreetmap.ru/api/interpreter\n"
     ]
    }
   ],
   "source": [
    "urls = ['https://lz4.overpass-api.de/api/interpreter', 'https://z.overpass-api.de/api/interpreter', 'https://maps.mail.ru/osm/tools/overpass/api/interpreter', 'https://overpass.openstreetmap.ru/api/interpreter', 'https://overpass.kumi.systems/api/interpreter']\n",
    "url = np.random.choice(urls)\n",
    "print(url)\n",
    "api = overpy.Overpass()\n",
    "result = api.query(q)"
   ]
  },
  {
   "cell_type": "code",
   "execution_count": 10,
   "id": "fbfa8d88",
   "metadata": {},
   "outputs": [
    {
     "data": {
      "text/plain": [
       "56"
      ]
     },
     "execution_count": 10,
     "metadata": {},
     "output_type": "execute_result"
    }
   ],
   "source": [
    "len( result.ways )"
   ]
  },
  {
   "cell_type": "code",
   "execution_count": 11,
   "id": "e45888ab",
   "metadata": {},
   "outputs": [],
   "source": [
    "# overpass ways and nodes to df\n",
    "overpass_df = pd.DataFrame()\n",
    "c = 0\n",
    "for way in result.ways:\n",
    "    for node in way.get_nodes(resolve_missing=True):\n",
    "        overpass_df.loc[c , 'node_lat'] = node.lat\n",
    "        overpass_df.loc[c , 'node_lon'] = node.lon\n",
    "        overpass_df.loc[c , 'node_id'] =  node.id\n",
    "        overpass_df.loc[c , 'waysurface'] = way.tags['surface']\n",
    "        if 'name' in way.tags.keys():\n",
    "            overpass_df.loc[c , 'wayname'] = way.tags['name']\n",
    "        c += 1\n",
    "        \n",
    "overpass_df.index = overpass_df['node_id']\n",
    "#overpass_df = overpass_df.dropna()\n",
    "overpass_df = overpass_df.loc[ ~overpass_df.index.duplicated() ]\n",
    "#overpass_df = overpass_df.loc[ overpass_df.duplicated() ]\n",
    "#overpass_df['wayname'].dropna()"
   ]
  },
  {
   "cell_type": "code",
   "execution_count": 12,
   "id": "0bb18cf6",
   "metadata": {},
   "outputs": [
    {
     "data": {
      "text/plain": [
       "(675, 5)"
      ]
     },
     "execution_count": 12,
     "metadata": {},
     "output_type": "execute_result"
    }
   ],
   "source": [
    "overpass_df.shape"
   ]
  },
  {
   "cell_type": "code",
   "execution_count": 13,
   "id": "494d3f9c",
   "metadata": {},
   "outputs": [
    {
     "name": "stderr",
     "output_type": "stream",
     "text": [
      "100%|██████████| 98/98 [00:13<00:00,  7.10it/s]"
     ]
    },
    {
     "name": "stdout",
     "output_type": "stream",
     "text": [
      "          lat       lon  distance    surface                    wayname  \\\n",
      "0   51.976537  7.601682  1.088618    asphalt                        NaN   \n",
      "1   51.983330  7.590279  0.138327    asphalt                        NaN   \n",
      "2   51.984269  7.588961  0.054852    asphalt                        NaN   \n",
      "3   51.984523  7.588277  1.042844    asphalt                        NaN   \n",
      "4   51.990946  7.577222  0.247170  compacted  Landfahrerplatz Nienberge   \n",
      "..        ...       ...       ...        ...                        ...   \n",
      "93  52.192706  7.446302  0.040392    asphalt                   Torfvenn   \n",
      "94  52.192563  7.446845  0.891835    asphalt                   Torfvenn   \n",
      "95  52.193789  7.459733  0.235076    asphalt                   Torfvenn   \n",
      "96  52.192914  7.462863  0.383535    asphalt                    Im Venn   \n",
      "97  52.189527  7.463905  0.223215    asphalt                    Im Venn   \n",
      "\n",
      "         node_id  distance2waypoint  \n",
      "0   2.433302e+08         365.653693  \n",
      "1   5.127044e+09           9.971286  \n",
      "2   5.718523e+09          11.287290  \n",
      "3   3.429456e+09          25.451543  \n",
      "4   3.465607e+09         201.885848  \n",
      "..           ...                ...  \n",
      "93  6.493177e+08          14.573405  \n",
      "94  2.666664e+08          19.899867  \n",
      "95  2.666664e+08           2.477437  \n",
      "96  7.116629e+09           4.454344  \n",
      "97  2.667140e+08          12.885283  \n",
      "\n",
      "[98 rows x 7 columns]\n"
     ]
    },
    {
     "name": "stderr",
     "output_type": "stream",
     "text": [
      "\n"
     ]
    }
   ],
   "source": [
    "# get nearest node per waypoint\n",
    "\n",
    "for index, x in tqdm( _df[['lat','lon']].iterrows(), total=_df.shape[0]):\n",
    "    tmp_df = pd.DataFrame()\n",
    "    tmp_df['d'] = overpass_df.apply( lambda y: distance.distance((y['node_lat'], y['node_lon']),(x['lat'], x['lon'])).m, axis=1 )\n",
    "    _df.loc[index, 'surface' ] =  overpass_df.loc[ tmp_df['d'].idxmin(axis=0) ]['waysurface']\n",
    "    _df.loc[index, 'wayname' ] =  overpass_df.loc[ tmp_df['d'].idxmin(axis=0) ]['wayname']\n",
    "    _df.loc[index, 'node_id' ] =  overpass_df.loc[ tmp_df['d'].idxmin(axis=0) ]['node_id']\n",
    "    _df.loc[index, 'distance2waypoint' ] =  tmp_df['d'].loc[ tmp_df['d'].idxmin(axis=0) ]\n",
    "print(_df)"
   ]
  },
  {
   "cell_type": "code",
   "execution_count": 14,
   "id": "ae5eb8bb",
   "metadata": {},
   "outputs": [],
   "source": [
    "summary_df = pd.DataFrame()\n",
    "for s in np.unique( _df['surface'].dropna() ):\n",
    "    summary_df.loc[0, s] = (_df['distance'].loc[_df['surface'] == s]).sum()"
   ]
  },
  {
   "cell_type": "code",
   "execution_count": 15,
   "id": "6a4c749a",
   "metadata": {},
   "outputs": [
    {
     "data": {
      "text/plain": [
       "<AxesSubplot: >"
      ]
     },
     "execution_count": 15,
     "metadata": {},
     "output_type": "execute_result"
    },
    {
     "data": {
      "image/png": "[encoded data removed]",
      "text/plain": [
       "<Figure size 640x480 with 1 Axes>"
      ]
     },
     "metadata": {},
     "output_type": "display_data"
    }
   ],
   "source": [
    "summary_df.apply(lambda x: x/_df['distance'].sum()*100 ).T.plot(kind=\"barh\", legend=False)"
   ]
  },
  {
   "cell_type": "markdown",
   "id": "9e10c1d0",
   "metadata": {},
   "source": [
    "# Variant 2. \n",
    "Loop through Dataframe and get nearest way. One reuquest for one Waypoint in optimized track."
   ]
  },
  {
   "cell_type": "code",
   "execution_count": 16,
   "id": "50cff98e",
   "metadata": {},
   "outputs": [],
   "source": [
    "def get_way(lat,lon):\n",
    "    # load balancing requests\n",
    "    urls = ['https://lz4.overpass-api.de/api/interpreter', 'https://z.overpass-api.de/api/interpreter', 'https://maps.mail.ru/osm/tools/overpass/api/interpreter', 'https://overpass.openstreetmap.ru/api/interpreter', 'https://overpass.kumi.systems/api/interpreter']\n",
    "    around = 10\n",
    "    _name = None\n",
    "    _surface = None\n",
    "    s = f\"way['surface'](around:{around},{lat}, {lon});\"\n",
    "    _query = f\"[out:json];({s});out;\"\n",
    "    # print(_query)\n",
    "    api = overpy.Overpass(url=np.random.choice(urls))\n",
    "    result = api.query(_query)\n",
    "    \n",
    "    if len(result.ways) > 0:\n",
    "        way = result.ways[0]\n",
    "        if \"name\" in way.tags.keys():\n",
    "            _name = way.tags['name']\n",
    "        if \"surface\" in way.tags.keys():\n",
    "            _surface = way.tags['surface']\n",
    "    return [_name, _surface]"
   ]
  },
  {
   "cell_type": "code",
   "execution_count": 17,
   "id": "7b927478",
   "metadata": {},
   "outputs": [
    {
     "name": "stderr",
     "output_type": "stream",
     "text": [
      "100%|██████████| 98/98 [01:23<00:00,  1.17it/s]\n"
     ]
    }
   ],
   "source": [
    "# loop dataframe and catch nearest street. Much more requests than variant 1\n",
    "for index, x in tqdm( _df[['lat','lon']].iterrows(), total=_df.shape[0]):\n",
    "    r =  get_way(x['lat'], x['lon']) \n",
    "    _df.loc[index, 'street_name'] = r[0]\n",
    "    _df.loc[index, 'surface'] = r[1]"
   ]
  },
  {
   "cell_type": "code",
   "execution_count": 18,
   "id": "a6ca649a",
   "metadata": {},
   "outputs": [
    {
     "data": {
      "text/html": [
       "<div>\n",
       "<style scoped>\n",
       "    .dataframe tbody tr th:only-of-type {\n",
       "        vertical-align: middle;\n",
       "    }\n",
       "\n",
       "    .dataframe tbody tr th {\n",
       "        vertical-align: top;\n",
       "    }\n",
       "\n",
       "    .dataframe thead th {\n",
       "        text-align: right;\n",
       "    }\n",
       "</style>\n",
       "<table border=\"1\" class=\"dataframe\">\n",
       "  <thead>\n",
       "    <tr style=\"text-align: right;\">\n",
       "      <th></th>\n",
       "      <th>lat</th>\n",
       "      <th>lon</th>\n",
       "      <th>distance</th>\n",
       "      <th>surface</th>\n",
       "      <th>wayname</th>\n",
       "      <th>node_id</th>\n",
       "      <th>distance2waypoint</th>\n",
       "      <th>street_name</th>\n",
       "    </tr>\n",
       "  </thead>\n",
       "  <tbody>\n",
       "    <tr>\n",
       "      <th>93</th>\n",
       "      <td>52.192706</td>\n",
       "      <td>7.446302</td>\n",
       "      <td>0.040392</td>\n",
       "      <td>asphalt</td>\n",
       "      <td>Torfvenn</td>\n",
       "      <td>6.493177e+08</td>\n",
       "      <td>14.573405</td>\n",
       "      <td>Torfvenn</td>\n",
       "    </tr>\n",
       "    <tr>\n",
       "      <th>94</th>\n",
       "      <td>52.192563</td>\n",
       "      <td>7.446845</td>\n",
       "      <td>0.891835</td>\n",
       "      <td>asphalt</td>\n",
       "      <td>Torfvenn</td>\n",
       "      <td>2.666664e+08</td>\n",
       "      <td>19.899867</td>\n",
       "      <td>Torfvenn</td>\n",
       "    </tr>\n",
       "    <tr>\n",
       "      <th>95</th>\n",
       "      <td>52.193789</td>\n",
       "      <td>7.459733</td>\n",
       "      <td>0.235076</td>\n",
       "      <td>asphalt</td>\n",
       "      <td>Torfvenn</td>\n",
       "      <td>2.666664e+08</td>\n",
       "      <td>2.477437</td>\n",
       "      <td>Torfvenn</td>\n",
       "    </tr>\n",
       "    <tr>\n",
       "      <th>96</th>\n",
       "      <td>52.192914</td>\n",
       "      <td>7.462863</td>\n",
       "      <td>0.383535</td>\n",
       "      <td>asphalt</td>\n",
       "      <td>Im Venn</td>\n",
       "      <td>7.116629e+09</td>\n",
       "      <td>4.454344</td>\n",
       "      <td>Torfvenn</td>\n",
       "    </tr>\n",
       "    <tr>\n",
       "      <th>97</th>\n",
       "      <td>52.189527</td>\n",
       "      <td>7.463905</td>\n",
       "      <td>0.223215</td>\n",
       "      <td>asphalt</td>\n",
       "      <td>Im Venn</td>\n",
       "      <td>2.667140e+08</td>\n",
       "      <td>12.885283</td>\n",
       "      <td>Im Venn</td>\n",
       "    </tr>\n",
       "  </tbody>\n",
       "</table>\n",
       "</div>"
      ],
      "text/plain": [
       "          lat       lon  distance  surface   wayname       node_id  \\\n",
       "93  52.192706  7.446302  0.040392  asphalt  Torfvenn  6.493177e+08   \n",
       "94  52.192563  7.446845  0.891835  asphalt  Torfvenn  2.666664e+08   \n",
       "95  52.193789  7.459733  0.235076  asphalt  Torfvenn  2.666664e+08   \n",
       "96  52.192914  7.462863  0.383535  asphalt   Im Venn  7.116629e+09   \n",
       "97  52.189527  7.463905  0.223215  asphalt   Im Venn  2.667140e+08   \n",
       "\n",
       "    distance2waypoint street_name  \n",
       "93          14.573405    Torfvenn  \n",
       "94          19.899867    Torfvenn  \n",
       "95           2.477437    Torfvenn  \n",
       "96           4.454344    Torfvenn  \n",
       "97          12.885283     Im Venn  "
      ]
     },
     "execution_count": 18,
     "metadata": {},
     "output_type": "execute_result"
    }
   ],
   "source": [
    "_df.tail()"
   ]
  },
  {
   "cell_type": "code",
   "execution_count": 19,
   "id": "46a6c8a5",
   "metadata": {},
   "outputs": [
    {
     "data": {
      "text/plain": [
       "array(['asphalt', 'cobblestone', 'compacted', 'grass', 'paving_stones'],\n",
       "      dtype=object)"
      ]
     },
     "execution_count": 19,
     "metadata": {},
     "output_type": "execute_result"
    }
   ],
   "source": [
    "np.unique( _df['surface'].dropna() )"
   ]
  },
  {
   "cell_type": "code",
   "execution_count": 20,
   "id": "9ff2f7e4",
   "metadata": {},
   "outputs": [],
   "source": [
    "summary_df = pd.DataFrame()\n",
    "for s in np.unique( _df['surface'].dropna() ):\n",
    "    summary_df.loc[0, s] = (_df['distance'].loc[_df['surface'] == s]).sum()"
   ]
  },
  {
   "cell_type": "code",
   "execution_count": 21,
   "id": "73b1c061",
   "metadata": {},
   "outputs": [
    {
     "data": {
      "text/html": [
       "<div>\n",
       "<style scoped>\n",
       "    .dataframe tbody tr th:only-of-type {\n",
       "        vertical-align: middle;\n",
       "    }\n",
       "\n",
       "    .dataframe tbody tr th {\n",
       "        vertical-align: top;\n",
       "    }\n",
       "\n",
       "    .dataframe thead th {\n",
       "        text-align: right;\n",
       "    }\n",
       "</style>\n",
       "<table border=\"1\" class=\"dataframe\">\n",
       "  <thead>\n",
       "    <tr style=\"text-align: right;\">\n",
       "      <th></th>\n",
       "      <th>asphalt</th>\n",
       "      <th>cobblestone</th>\n",
       "      <th>compacted</th>\n",
       "      <th>grass</th>\n",
       "      <th>paving_stones</th>\n",
       "    </tr>\n",
       "  </thead>\n",
       "  <tbody>\n",
       "    <tr>\n",
       "      <th>0</th>\n",
       "      <td>40.42923</td>\n",
       "      <td>0.111936</td>\n",
       "      <td>0.030319</td>\n",
       "      <td>0.340597</td>\n",
       "      <td>1.000677</td>\n",
       "    </tr>\n",
       "  </tbody>\n",
       "</table>\n",
       "</div>"
      ],
      "text/plain": [
       "    asphalt  cobblestone  compacted     grass  paving_stones\n",
       "0  40.42923     0.111936   0.030319  0.340597       1.000677"
      ]
     },
     "execution_count": 21,
     "metadata": {},
     "output_type": "execute_result"
    }
   ],
   "source": [
    "# Distance by surface\n",
    "summary_df"
   ]
  },
  {
   "cell_type": "code",
   "execution_count": 22,
   "id": "218d176c",
   "metadata": {},
   "outputs": [
    {
     "data": {
      "text/html": [
       "<div>\n",
       "<style scoped>\n",
       "    .dataframe tbody tr th:only-of-type {\n",
       "        vertical-align: middle;\n",
       "    }\n",
       "\n",
       "    .dataframe tbody tr th {\n",
       "        vertical-align: top;\n",
       "    }\n",
       "\n",
       "    .dataframe thead th {\n",
       "        text-align: right;\n",
       "    }\n",
       "</style>\n",
       "<table border=\"1\" class=\"dataframe\">\n",
       "  <thead>\n",
       "    <tr style=\"text-align: right;\">\n",
       "      <th></th>\n",
       "      <th>asphalt</th>\n",
       "      <th>cobblestone</th>\n",
       "      <th>compacted</th>\n",
       "      <th>grass</th>\n",
       "      <th>paving_stones</th>\n",
       "    </tr>\n",
       "  </thead>\n",
       "  <tbody>\n",
       "    <tr>\n",
       "      <th>0</th>\n",
       "      <td>89.525303</td>\n",
       "      <td>0.247868</td>\n",
       "      <td>0.067137</td>\n",
       "      <td>0.754207</td>\n",
       "      <td>2.215869</td>\n",
       "    </tr>\n",
       "  </tbody>\n",
       "</table>\n",
       "</div>"
      ],
      "text/plain": [
       "     asphalt  cobblestone  compacted     grass  paving_stones\n",
       "0  89.525303     0.247868   0.067137  0.754207       2.215869"
      ]
     },
     "execution_count": 22,
     "metadata": {},
     "output_type": "execute_result"
    }
   ],
   "source": [
    "# get in P%\n",
    "summary_df.apply(lambda x: x/_df['distance'].sum()*100 )"
   ]
  },
  {
   "cell_type": "code",
   "execution_count": 23,
   "id": "ad906be4",
   "metadata": {},
   "outputs": [
    {
     "data": {
      "text/plain": [
       "<AxesSubplot: >"
      ]
     },
     "execution_count": 23,
     "metadata": {},
     "output_type": "execute_result"
    },
    {
     "data": {
      "image/png": "[encoded data removed]",
      "text/plain": [
       "<Figure size 640x480 with 1 Axes>"
      ]
     },
     "metadata": {},
     "output_type": "display_data"
    }
   ],
   "source": [
    "summary_df.apply(lambda x: x/_df['distance'].sum()*100 ).T.plot(kind=\"barh\", legend=False)"
   ]
  },
  {
   "cell_type": "code",
   "execution_count": null,
   "id": "ed42743e",
   "metadata": {},
   "outputs": [],
   "source": []
  }
 ],
 "metadata": {
  "kernelspec": {
   "display_name": "Python 3 (ipykernel)",
   "language": "python",
   "name": "python3"
  },
  "language_info": {
   "codemirror_mode": {
    "name": "ipython",
    "version": 3
   },
   "file_extension": ".py",
   "mimetype": "text/x-python",
   "name": "python",
   "nbconvert_exporter": "python",
   "pygments_lexer": "ipython3",
   "version": "3.9.10"
  }
 },
 "nbformat": 4,
 "nbformat_minor": 5
}
