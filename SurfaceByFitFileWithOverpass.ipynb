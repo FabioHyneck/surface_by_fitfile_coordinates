{
 "cells": [
  {
   "cell_type": "code",
   "execution_count": 1,
   "id": "bb536a4b",
   "metadata": {},
   "outputs": [],
   "source": [
    "import overpy\n",
    "import numpy as np\n",
    "import fitparse\n",
    "from rdp import rdp\n",
    "import pandas as pd\n",
    "import math\n",
    "from geopy import distance\n",
    "from tqdm import tqdm"
   ]
  },
  {
   "cell_type": "markdown",
   "id": "b0b22a6d",
   "metadata": {},
   "source": [
    "# Import Fitfile and read all waypoints into array\n",
    "+ and convert position into degrees"
   ]
  },
  {
   "cell_type": "code",
   "execution_count": 2,
   "id": "f65fd4d3",
   "metadata": {},
   "outputs": [],
   "source": [
    "file = \"Fahrt_am_Nachmittag.fit\"\n",
    "fitfile = fitparse.FitFile(file)\n",
    "lat_long = []\n",
    "for record in fitfile.get_messages(\"record\"):\n",
    "    lat_long.append([float(record.get_value('position_lat')) * 180 / math.pow(2, 31), float(record.get_value('position_long')) * 180 / math.pow(2, 31)])"
   ]
  },
  {
   "cell_type": "markdown",
   "id": "06543d6a",
   "metadata": {},
   "source": [
    "# Optimze Map by using rdp to reduce requests:"
   ]
  },
  {
   "cell_type": "code",
   "execution_count": 3,
   "id": "1a349b4e",
   "metadata": {},
   "outputs": [],
   "source": [
    "def optimize(lat_long, EPSILON=0.0001):\n",
    "    arr = np.array(list(map(lambda lat, lon: [lat, lon], lat_long[0], lat_long[1])))\n",
    "    mask = rdp(arr, algo=\"iter\", return_mask=True, epsilon=EPSILON)\n",
    "    parr = np.array(lat_long)\n",
    "    r = list(parr[mask])\n",
    "    return r"
   ]
  },
  {
   "cell_type": "code",
   "execution_count": 4,
   "id": "65588b34",
   "metadata": {},
   "outputs": [
    {
     "name": "stdout",
     "output_type": "stream",
     "text": [
      "Rawfile: 6223 Points\n",
      "Optimized: 99 Points\n"
     ]
    }
   ],
   "source": [
    "# slicing array due private area reasons\n",
    "df = pd.DataFrame(lat_long[500:-500])\n",
    "# optimize array\n",
    "_optimized = optimize(df)\n",
    "print(f'Rawfile: {len(lat_long)} Points')\n",
    "print(f'Optimized: {len(_optimized)} Points')\n"
   ]
  },
  {
   "cell_type": "markdown",
   "id": "08a60c79",
   "metadata": {},
   "source": [
    "# Variant 1:"
   ]
  },
  {
   "cell_type": "markdown",
   "id": "85307b34",
   "metadata": {},
   "source": [
    "Build Query with all Waypoints and add distance to array for DataFrame usage"
   ]
  },
  {
   "cell_type": "code",
   "execution_count": 5,
   "id": "f605169a",
   "metadata": {
    "scrolled": true
   },
   "outputs": [],
   "source": [
    "around = 5\n",
    "tmp = []\n",
    "s = \"\"\n",
    "for a in range(0, len(_optimized )-1):\n",
    "    tmp.append( [_optimized [a][0],  _optimized [a][1], distance.distance((_optimized [a][0], _optimized [a][1]), (_optimized [a+1][0], _optimized [a+1][1])).km])\n",
    "    lat_mean = ( _optimized [a][0] + _optimized [a+1][0] ) / 2\n",
    "    lon_mean = ( _optimized [a][1] + _optimized [a+1][1] ) / 2\n",
    "    s += f\"way['surface'](around:{around},{lat_mean}, {lon_mean});\"\n",
    "q = f\"[out:json];({s});out;\""
   ]
  },
  {
   "cell_type": "code",
   "execution_count": 6,
   "id": "965d47df",
   "metadata": {},
   "outputs": [],
   "source": [
    "#print(q)"
   ]
  },
  {
   "cell_type": "code",
   "execution_count": 7,
   "id": "47bc5563",
   "metadata": {},
   "outputs": [
    {
     "data": {
      "text/html": [
       "<div>\n",
       "<style scoped>\n",
       "    .dataframe tbody tr th:only-of-type {\n",
       "        vertical-align: middle;\n",
       "    }\n",
       "\n",
       "    .dataframe tbody tr th {\n",
       "        vertical-align: top;\n",
       "    }\n",
       "\n",
       "    .dataframe thead th {\n",
       "        text-align: right;\n",
       "    }\n",
       "</style>\n",
       "<table border=\"1\" class=\"dataframe\">\n",
       "  <thead>\n",
       "    <tr style=\"text-align: right;\">\n",
       "      <th></th>\n",
       "      <th>lat</th>\n",
       "      <th>lon</th>\n",
       "      <th>distance</th>\n",
       "    </tr>\n",
       "  </thead>\n",
       "  <tbody>\n",
       "    <tr>\n",
       "      <th>0</th>\n",
       "      <td>51.976537</td>\n",
       "      <td>7.601682</td>\n",
       "      <td>1.088618</td>\n",
       "    </tr>\n",
       "    <tr>\n",
       "      <th>1</th>\n",
       "      <td>51.983330</td>\n",
       "      <td>7.590279</td>\n",
       "      <td>0.138327</td>\n",
       "    </tr>\n",
       "    <tr>\n",
       "      <th>2</th>\n",
       "      <td>51.984269</td>\n",
       "      <td>7.588961</td>\n",
       "      <td>0.054852</td>\n",
       "    </tr>\n",
       "    <tr>\n",
       "      <th>3</th>\n",
       "      <td>51.984523</td>\n",
       "      <td>7.588277</td>\n",
       "      <td>1.042844</td>\n",
       "    </tr>\n",
       "    <tr>\n",
       "      <th>4</th>\n",
       "      <td>51.990946</td>\n",
       "      <td>7.577222</td>\n",
       "      <td>0.247170</td>\n",
       "    </tr>\n",
       "    <tr>\n",
       "      <th>...</th>\n",
       "      <td>...</td>\n",
       "      <td>...</td>\n",
       "      <td>...</td>\n",
       "    </tr>\n",
       "    <tr>\n",
       "      <th>93</th>\n",
       "      <td>52.192706</td>\n",
       "      <td>7.446302</td>\n",
       "      <td>0.040392</td>\n",
       "    </tr>\n",
       "    <tr>\n",
       "      <th>94</th>\n",
       "      <td>52.192563</td>\n",
       "      <td>7.446845</td>\n",
       "      <td>0.891835</td>\n",
       "    </tr>\n",
       "    <tr>\n",
       "      <th>95</th>\n",
       "      <td>52.193789</td>\n",
       "      <td>7.459733</td>\n",
       "      <td>0.235076</td>\n",
       "    </tr>\n",
       "    <tr>\n",
       "      <th>96</th>\n",
       "      <td>52.192914</td>\n",
       "      <td>7.462863</td>\n",
       "      <td>0.383535</td>\n",
       "    </tr>\n",
       "    <tr>\n",
       "      <th>97</th>\n",
       "      <td>52.189527</td>\n",
       "      <td>7.463905</td>\n",
       "      <td>0.223215</td>\n",
       "    </tr>\n",
       "  </tbody>\n",
       "</table>\n",
       "<p>98 rows × 3 columns</p>\n",
       "</div>"
      ],
      "text/plain": [
       "          lat       lon  distance\n",
       "0   51.976537  7.601682  1.088618\n",
       "1   51.983330  7.590279  0.138327\n",
       "2   51.984269  7.588961  0.054852\n",
       "3   51.984523  7.588277  1.042844\n",
       "4   51.990946  7.577222  0.247170\n",
       "..        ...       ...       ...\n",
       "93  52.192706  7.446302  0.040392\n",
       "94  52.192563  7.446845  0.891835\n",
       "95  52.193789  7.459733  0.235076\n",
       "96  52.192914  7.462863  0.383535\n",
       "97  52.189527  7.463905  0.223215\n",
       "\n",
       "[98 rows x 3 columns]"
      ]
     },
     "execution_count": 7,
     "metadata": {},
     "output_type": "execute_result"
    }
   ],
   "source": [
    "_df = pd.DataFrame(tmp, columns=['lat','lon','distance'])\n",
    "_df"
   ]
  },
  {
   "cell_type": "code",
   "execution_count": 8,
   "id": "0c32d3c6",
   "metadata": {},
   "outputs": [
    {
     "data": {
      "text/plain": [
       "0.4608118063724402"
      ]
     },
     "execution_count": 8,
     "metadata": {},
     "output_type": "execute_result"
    }
   ],
   "source": [
    "_df['distance'].mean()"
   ]
  },
  {
   "cell_type": "markdown",
   "id": "a4eb0d3d",
   "metadata": {},
   "source": [
    "# Query overpass by using generated long query"
   ]
  },
  {
   "cell_type": "code",
   "execution_count": 9,
   "id": "f560a61f",
   "metadata": {},
   "outputs": [],
   "source": [
    "api = overpy.Overpass()\n",
    "result = api.query(q)"
   ]
  },
  {
   "cell_type": "code",
   "execution_count": 10,
   "id": "3e0cae02",
   "metadata": {},
   "outputs": [
    {
     "data": {
      "text/plain": [
       "47"
      ]
     },
     "execution_count": 10,
     "metadata": {},
     "output_type": "execute_result"
    }
   ],
   "source": [
    "len( result.ways )"
   ]
  },
  {
   "cell_type": "code",
   "execution_count": 11,
   "id": "ab288c45",
   "metadata": {},
   "outputs": [
    {
     "name": "stdout",
     "output_type": "stream",
     "text": [
      "Lönsstraße: asphalt\n",
      "Waldweg: asphalt\n",
      "Rote Erde: asphalt\n",
      "Torfvenn: asphalt\n",
      "Im Venn: asphalt\n",
      "Westfalenring: asphalt\n",
      "Europaring: asphalt\n",
      "Kampelweg: asphalt\n",
      "Borghorster Straße: asphalt\n",
      "Borghorster Straße: asphalt\n",
      "Emsdettener Straße: asphalt\n",
      "Emsdettener Straße: asphalt\n",
      "Steinfurter Straße: asphalt\n",
      "Waldweg: asphalt\n",
      "Wettringer Straße: asphalt\n",
      "RadBahn Münsterland: asphalt\n",
      "Burgsteinfurter Straße: asphalt\n",
      "RadBahn Münsterland: asphalt\n",
      "Landfahrerplatz Nienberge: compacted\n",
      "Altenberger Straße: asphalt\n",
      "Burgsteinfurter Straße: asphalt\n",
      "Europaring: asphalt\n",
      "Sepp-Herberger-Straße: asphalt\n",
      "Westfalenring: asphalt\n",
      "Westfalenring: asphalt\n",
      "Altenberger Straße: asphalt\n",
      "Liedekerker Straße: asphalt\n",
      "Wasserstraße: asphalt\n",
      "Borghorster Straße: asphalt\n",
      "RadBahn Münsterland: asphalt\n"
     ]
    }
   ],
   "source": [
    "for way in result.ways:\n",
    "    if 'name' in way.tags.keys() and 'surface' in way.tags.keys():\n",
    "        print(f\"{way.tags['name']}: {way.tags['surface']}\")"
   ]
  },
  {
   "cell_type": "markdown",
   "id": "69bc8a36",
   "metadata": {},
   "source": [
    "Todo:\n",
    "- Sort way to DataFrame index\n",
    "- Calculate surface in P%"
   ]
  },
  {
   "cell_type": "markdown",
   "id": "e0fba9b4",
   "metadata": {},
   "source": [
    "# Variant 2. \n",
    "Loop through Dataframe and get nearest way. One reuquest for one Waypoint in optimized track."
   ]
  },
  {
   "cell_type": "code",
   "execution_count": 12,
   "id": "2a69b5c8",
   "metadata": {},
   "outputs": [],
   "source": [
    "def get_way(lat,lon):\n",
    "    # load balancing requests\n",
    "    urls = ['https://lz4.overpass-api.de/api/interpreter', 'https://z.overpass-api.de/api/interpreter', 'https://maps.mail.ru/osm/tools/overpass/api/interpreter', 'https://overpass.openstreetmap.ru/api/interpreter', 'https://overpass.kumi.systems/api/interpreter']\n",
    "    \n",
    "    around = 10\n",
    "    _name = None\n",
    "    _surface = None\n",
    "    s = f\"way['surface'](around:{around},{lat}, {lon});\"\n",
    "    _query = f\"[out:json];({s});out;\"\n",
    "    api = overpy.Overpass(url=np.random.choice(urls))\n",
    "    result = api.query(_query)\n",
    "    \n",
    "    if len(result.ways) > 0:\n",
    "        way = result.ways[0]\n",
    "        if \"name\" in way.tags.keys():\n",
    "            _name = way.tags['name']\n",
    "        if \"surface\" in way.tags.keys():\n",
    "            _surface = way.tags['surface']\n",
    "    return [_name, _surface]"
   ]
  },
  {
   "cell_type": "code",
   "execution_count": 13,
   "id": "723d4e7c",
   "metadata": {},
   "outputs": [
    {
     "name": "stderr",
     "output_type": "stream",
     "text": [
      "100%|██████████| 98/98 [00:55<00:00,  1.76it/s]\n"
     ]
    }
   ],
   "source": [
    "# loop dataframe and catch nearest street. Much more requests than variant 1\n",
    "for index, x in tqdm( _df[['lat','lon']].iterrows(), total=_df.shape[0]):\n",
    "    r =  get_way(x['lat'], x['lon']) \n",
    "    _df.loc[index, 'street_name'] = r[0]\n",
    "    _df.loc[index, 'surface'] = r[1]"
   ]
  },
  {
   "cell_type": "code",
   "execution_count": 14,
   "id": "6434e415",
   "metadata": {},
   "outputs": [
    {
     "data": {
      "text/html": [
       "<div>\n",
       "<style scoped>\n",
       "    .dataframe tbody tr th:only-of-type {\n",
       "        vertical-align: middle;\n",
       "    }\n",
       "\n",
       "    .dataframe tbody tr th {\n",
       "        vertical-align: top;\n",
       "    }\n",
       "\n",
       "    .dataframe thead th {\n",
       "        text-align: right;\n",
       "    }\n",
       "</style>\n",
       "<table border=\"1\" class=\"dataframe\">\n",
       "  <thead>\n",
       "    <tr style=\"text-align: right;\">\n",
       "      <th></th>\n",
       "      <th>lat</th>\n",
       "      <th>lon</th>\n",
       "      <th>distance</th>\n",
       "      <th>street_name</th>\n",
       "      <th>surface</th>\n",
       "    </tr>\n",
       "  </thead>\n",
       "  <tbody>\n",
       "    <tr>\n",
       "      <th>93</th>\n",
       "      <td>52.192706</td>\n",
       "      <td>7.446302</td>\n",
       "      <td>0.040392</td>\n",
       "      <td>Torfvenn</td>\n",
       "      <td>asphalt</td>\n",
       "    </tr>\n",
       "    <tr>\n",
       "      <th>94</th>\n",
       "      <td>52.192563</td>\n",
       "      <td>7.446845</td>\n",
       "      <td>0.891835</td>\n",
       "      <td>Torfvenn</td>\n",
       "      <td>asphalt</td>\n",
       "    </tr>\n",
       "    <tr>\n",
       "      <th>95</th>\n",
       "      <td>52.193789</td>\n",
       "      <td>7.459733</td>\n",
       "      <td>0.235076</td>\n",
       "      <td>Torfvenn</td>\n",
       "      <td>asphalt</td>\n",
       "    </tr>\n",
       "    <tr>\n",
       "      <th>96</th>\n",
       "      <td>52.192914</td>\n",
       "      <td>7.462863</td>\n",
       "      <td>0.383535</td>\n",
       "      <td>Torfvenn</td>\n",
       "      <td>asphalt</td>\n",
       "    </tr>\n",
       "    <tr>\n",
       "      <th>97</th>\n",
       "      <td>52.189527</td>\n",
       "      <td>7.463905</td>\n",
       "      <td>0.223215</td>\n",
       "      <td>Im Venn</td>\n",
       "      <td>asphalt</td>\n",
       "    </tr>\n",
       "  </tbody>\n",
       "</table>\n",
       "</div>"
      ],
      "text/plain": [
       "          lat       lon  distance street_name  surface\n",
       "93  52.192706  7.446302  0.040392    Torfvenn  asphalt\n",
       "94  52.192563  7.446845  0.891835    Torfvenn  asphalt\n",
       "95  52.193789  7.459733  0.235076    Torfvenn  asphalt\n",
       "96  52.192914  7.462863  0.383535    Torfvenn  asphalt\n",
       "97  52.189527  7.463905  0.223215     Im Venn  asphalt"
      ]
     },
     "execution_count": 14,
     "metadata": {},
     "output_type": "execute_result"
    }
   ],
   "source": [
    "_df.tail()"
   ]
  },
  {
   "cell_type": "code",
   "execution_count": 15,
   "id": "f0dc19c5",
   "metadata": {},
   "outputs": [
    {
     "data": {
      "text/plain": [
       "array(['asphalt', 'cobblestone', 'compacted', 'grass', 'paving_stones'],\n",
       "      dtype=object)"
      ]
     },
     "execution_count": 15,
     "metadata": {},
     "output_type": "execute_result"
    }
   ],
   "source": [
    "np.unique( _df['surface'].dropna() )"
   ]
  },
  {
   "cell_type": "code",
   "execution_count": 16,
   "id": "38009507",
   "metadata": {},
   "outputs": [],
   "source": [
    "summary_df = pd.DataFrame()\n",
    "for s in np.unique( _df['surface'].dropna() ):\n",
    "    summary_df.loc[0, s] = (_df['distance'].loc[_df['surface'] == s]).sum()"
   ]
  },
  {
   "cell_type": "code",
   "execution_count": 17,
   "id": "89d0460e",
   "metadata": {},
   "outputs": [
    {
     "data": {
      "text/html": [
       "<div>\n",
       "<style scoped>\n",
       "    .dataframe tbody tr th:only-of-type {\n",
       "        vertical-align: middle;\n",
       "    }\n",
       "\n",
       "    .dataframe tbody tr th {\n",
       "        vertical-align: top;\n",
       "    }\n",
       "\n",
       "    .dataframe thead th {\n",
       "        text-align: right;\n",
       "    }\n",
       "</style>\n",
       "<table border=\"1\" class=\"dataframe\">\n",
       "  <thead>\n",
       "    <tr style=\"text-align: right;\">\n",
       "      <th></th>\n",
       "      <th>asphalt</th>\n",
       "      <th>cobblestone</th>\n",
       "      <th>compacted</th>\n",
       "      <th>grass</th>\n",
       "      <th>paving_stones</th>\n",
       "    </tr>\n",
       "  </thead>\n",
       "  <tbody>\n",
       "    <tr>\n",
       "      <th>0</th>\n",
       "      <td>40.42923</td>\n",
       "      <td>0.111936</td>\n",
       "      <td>0.030319</td>\n",
       "      <td>0.340597</td>\n",
       "      <td>1.000677</td>\n",
       "    </tr>\n",
       "  </tbody>\n",
       "</table>\n",
       "</div>"
      ],
      "text/plain": [
       "    asphalt  cobblestone  compacted     grass  paving_stones\n",
       "0  40.42923     0.111936   0.030319  0.340597       1.000677"
      ]
     },
     "execution_count": 17,
     "metadata": {},
     "output_type": "execute_result"
    }
   ],
   "source": [
    "# Distance by surface\n",
    "summary_df"
   ]
  },
  {
   "cell_type": "code",
   "execution_count": 18,
   "id": "45abfb61",
   "metadata": {},
   "outputs": [
    {
     "data": {
      "text/html": [
       "<div>\n",
       "<style scoped>\n",
       "    .dataframe tbody tr th:only-of-type {\n",
       "        vertical-align: middle;\n",
       "    }\n",
       "\n",
       "    .dataframe tbody tr th {\n",
       "        vertical-align: top;\n",
       "    }\n",
       "\n",
       "    .dataframe thead th {\n",
       "        text-align: right;\n",
       "    }\n",
       "</style>\n",
       "<table border=\"1\" class=\"dataframe\">\n",
       "  <thead>\n",
       "    <tr style=\"text-align: right;\">\n",
       "      <th></th>\n",
       "      <th>asphalt</th>\n",
       "      <th>cobblestone</th>\n",
       "      <th>compacted</th>\n",
       "      <th>grass</th>\n",
       "      <th>paving_stones</th>\n",
       "    </tr>\n",
       "  </thead>\n",
       "  <tbody>\n",
       "    <tr>\n",
       "      <th>0</th>\n",
       "      <td>89.525303</td>\n",
       "      <td>0.247868</td>\n",
       "      <td>0.067137</td>\n",
       "      <td>0.754207</td>\n",
       "      <td>2.215869</td>\n",
       "    </tr>\n",
       "  </tbody>\n",
       "</table>\n",
       "</div>"
      ],
      "text/plain": [
       "     asphalt  cobblestone  compacted     grass  paving_stones\n",
       "0  89.525303     0.247868   0.067137  0.754207       2.215869"
      ]
     },
     "execution_count": 18,
     "metadata": {},
     "output_type": "execute_result"
    }
   ],
   "source": [
    "# get in P%\n",
    "summary_df.apply(lambda x: x/_df['distance'].sum()*100 )"
   ]
  },
  {
   "cell_type": "code",
   "execution_count": 20,
   "id": "448fc20b",
   "metadata": {},
   "outputs": [
    {
     "data": {
      "text/plain": [
       "<AxesSubplot: >"
      ]
     },
     "execution_count": 20,
     "metadata": {},
     "output_type": "execute_result"
    },
    {
     "data": {
      "image/png": "[encoded data removed]",
      "text/plain": [
       "<Figure size 640x480 with 1 Axes>"
      ]
     },
     "metadata": {},
     "output_type": "display_data"
    }
   ],
   "source": [
    "summary_df.apply(lambda x: x/_df['distance'].sum()*100 ).T.plot(kind=\"barh\")"
   ]
  },
  {
   "cell_type": "code",
   "execution_count": null,
   "id": "803519e8",
   "metadata": {},
   "outputs": [],
   "source": []
  }
 ],
 "metadata": {
  "kernelspec": {
   "display_name": "Python 3 (ipykernel)",
   "language": "python",
   "name": "python3"
  },
  "language_info": {
   "codemirror_mode": {
    "name": "ipython",
    "version": 3
   },
   "file_extension": ".py",
   "mimetype": "text/x-python",
   "name": "python",
   "nbconvert_exporter": "python",
   "pygments_lexer": "ipython3",
   "version": "3.9.10"
  }
 },
 "nbformat": 4,
 "nbformat_minor": 5
}
